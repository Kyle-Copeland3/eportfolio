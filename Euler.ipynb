{
 "cells": [
  {
   "cell_type": "markdown",
   "metadata": {},
   "source": [
    "The sum of the primes below 10\n",
    " is \n",
    "2+3+5+7=17\n",
    "\n",
    "Find the sum of all the primes below two million."
   ]
  },
  {
   "cell_type": "markdown",
   "metadata": {},
   "source": [
    "\n",
    "\n",
    "To solve this problem, you can use the Sieve of Eratosthenes algorithm to efficiently generate a list of prime numbers and then sum them up.\n",
    "\n",
    "Here's a step-by-step approach in a general programming context:\n",
    "\n",
    "1. Initialize variables:\n",
    "\n",
    "Set the upper limit to 2 million.\n",
    "Create a boolean array to represent whether a number is prime or not. Initialize all values to True.\n",
    "Start with the first prime number, 2.\n",
    "\n",
    "2. Implement the Sieve of Eratosthenes algorithm:\n",
    "\n",
    "Mark all multiples of 2 as not prime.\n",
    "Move to the next number (3) and mark its multiples as not prime.\n",
    "Repeat this process for all numbers up to the square root of the upper limit.\n",
    "\n",
    "3. Calculate the sum of primes:\n",
    "\n",
    "Iterate through the boolean array. For each True value (indicating a prime number), add its index to the sum.\n",
    "Print or return the result.\n",
    "\n",
    "Here's a Python code snippet to illustrate this:"
   ]
  },
  {
   "cell_type": "code",
   "execution_count": 1,
   "metadata": {},
   "outputs": [
    {
     "name": "stdout",
     "output_type": "stream",
     "text": [
      "142913828922\n"
     ]
    }
   ],
   "source": [
    "def sum_of_primes_below_n(n):\n",
    "    primes = [True] * n\n",
    "    primes[0] = primes[1] = False  # 0 and 1 are not prime\n",
    "\n",
    "    for i in range(2, int(n**0.5) + 1):\n",
    "        if primes[i]:\n",
    "            for j in range(i*i, n, i):\n",
    "                primes[j] = False\n",
    "\n",
    "    prime_sum = sum(i for i in range(n) if primes[i])\n",
    "    return prime_sum\n",
    "\n",
    "# Find the sum of all primes below two million\n",
    "result = sum_of_primes_below_n(2000000)\n",
    "print(result)"
   ]
  }
 ],
 "metadata": {
  "kernelspec": {
   "display_name": "Python 3",
   "language": "python",
   "name": "python3"
  },
  "language_info": {
   "codemirror_mode": {
    "name": "ipython",
    "version": 3
   },
   "file_extension": ".py",
   "mimetype": "text/x-python",
   "name": "python",
   "nbconvert_exporter": "python",
   "pygments_lexer": "ipython3",
   "version": "3.10.8"
  }
 },
 "nbformat": 4,
 "nbformat_minor": 2
}
