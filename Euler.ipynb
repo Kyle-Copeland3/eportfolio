{
 "cells": [
  {
   "cell_type": "markdown",
   "metadata": {},
   "source": [
    "<p>The sum of the squares of the first ten natural numbers is,</p>\n",
    "$$1^2 + 2^2 + ... + 10^2 = 385.$$\n",
    "<p>The square of the sum of the first ten natural numbers is,</p>\n",
    "$$(1 + 2 + ... + 10)^2 = 55^2 = 3025.$$\n",
    "<p>Hence the difference between the sum of the squares of the first ten natural numbers and the square of the sum is $3025 - 385 = 2640$.</p>\n",
    "<p>Find the difference between the sum of the squares of the first one hundred natural numbers and the square of the sum.</p>\n"
   ]
  },
  {
   "cell_type": "code",
   "execution_count": 1,
   "metadata": {},
   "outputs": [
    {
     "name": "stdout",
     "output_type": "stream",
     "text": [
      "The difference between the sum of the squares of the first one hundred natural numbers and the square of the sum is 25164150\n"
     ]
    }
   ],
   "source": [
    "# Sum of squares of the first 100 natural numbers\n",
    "sum_of_squares = sum([i**2 for i in range(1, 101)])\n",
    "\n",
    "# Square of the sum of the first 100 natural numbers\n",
    "square_of_sum = sum(range(1, 101))**2\n",
    "\n",
    "# Difference between the sum of the squares and the square of the sum\n",
    "difference = square_of_sum - sum_of_squares\n",
    "\n",
    "print(\"The difference between the sum of the squares of the first one hundred natural numbers and the square of the sum is\", difference)\n"
   ]
  },
  {
   "cell_type": "markdown",
   "metadata": {},
   "source": [
    "To find the difference between the sum of the squares of the first one hundred natural numbers and the square of the sum, we can use the following formulas:\n",
    "\n",
    "The sum of the squares of the first n natural numbers is given by the formula [n(n+1)(2n+1)]/6 1.\n",
    "The square of the sum of the first n natural numbers is given by the formula [n(n+1)/2]^2 2.\n",
    "Substituting n = 100 in the above formulas, we get:\n",
    "\n",
    "The sum of the squares of the first one hundred natural numbers is 338350 1.\n",
    "The square of the sum of the first one hundred natural numbers is 25502500 2.\n",
    "Therefore, the difference between the sum of the squares of the first one hundred natural numbers and the square of the sum is:\n",
    "\n",
    "25502500 - 338350 = 25164150"
   ]
  }
 ],
 "metadata": {
  "kernelspec": {
   "display_name": "Python 3",
   "language": "python",
   "name": "python3"
  },
  "language_info": {
   "codemirror_mode": {
    "name": "ipython",
    "version": 3
   },
   "file_extension": ".py",
   "mimetype": "text/x-python",
   "name": "python",
   "nbconvert_exporter": "python",
   "pygments_lexer": "ipython3",
   "version": "3.10.8"
  }
 },
 "nbformat": 4,
 "nbformat_minor": 2
}
